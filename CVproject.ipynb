{
  "nbformat": 4,
  "nbformat_minor": 0,
  "metadata": {
    "colab": {
      "provenance": []
    },
    "kernelspec": {
      "name": "python3",
      "display_name": "Python 3"
    },
    "language_info": {
      "name": "python"
    }
  },
  "cells": [
    {
      "cell_type": "markdown",
      "source": [
        "### **HOMEWORK DONE BY : ADERGHAL YASSER / AMOUZIGH RHITA**"
      ],
      "metadata": {
        "id": "4bnVJJFOLoy6"
      }
    },
    {
      "cell_type": "markdown",
      "source": [
        "## Load and Preprocess the CIFAR10 Dataset\n",
        "\n",
        "\n",
        "\n"
      ],
      "metadata": {
        "id": "OrilQUdcKYxi"
      }
    },
    {
      "cell_type": "code",
      "execution_count": null,
      "metadata": {
        "colab": {
          "base_uri": "https://localhost:8080/"
        },
        "id": "fdWLCqAr4H6f",
        "outputId": "23209650-6f1f-43af-ecdd-93740f617bea"
      },
      "outputs": [
        {
          "output_type": "stream",
          "name": "stdout",
          "text": [
            "Downloading data from https://www.cs.toronto.edu/~kriz/cifar-10-python.tar.gz\n",
            "170498071/170498071 [==============================] - 10s 0us/step\n"
          ]
        }
      ],
      "source": [
        "import tensorflow as tf\n",
        "from tensorflow.keras import datasets, layers, models\n",
        "import numpy as np\n",
        "import matplotlib.pyplot as plt\n",
        "import seaborn as sns\n",
        "from sklearn.metrics import confusion_matrix, precision_score, recall_score, f1_score, accuracy_score\n",
        "\n",
        "# Load CIFAR10 dataset\n",
        "(x_train, y_train), (x_test, y_test) = datasets.cifar10.load_data()\n",
        "\n",
        "# Convert labels to binary (can fly: 1, cannot fly: 0)\n",
        "# Classes: airplane (0), bird (2) -> 1 (can fly)\n",
        "# All other classes -> 0 (cannot fly)\n",
        "fly_classes = [0, 2]\n",
        "y_train_binary = np.isin(y_train, fly_classes).astype(np.int32)\n",
        "y_test_binary = np.isin(y_test, fly_classes).astype(np.int32)\n",
        "\n",
        "# Normalize the images to the range [0, 1]\n",
        "x_train, x_test = x_train / 255.0, x_test / 255.0\n",
        "\n",
        "# Split training data into training and validation sets\n",
        "x_train, x_val = x_train[:40000], x_train[40000:]\n",
        "y_train_binary, y_val_binary = y_train_binary[:40000], y_train_binary[40000:]\n"
      ]
    },
    {
      "cell_type": "markdown",
      "source": [
        "## Choosing and Building the CNN Architecture\n"
      ],
      "metadata": {
        "id": "iXYn0KhOK61h"
      }
    },
    {
      "cell_type": "code",
      "source": [
        "model = models.Sequential([\n",
        "    layers.Conv2D(32, (3, 3), activation='relu', input_shape=(32, 32, 3)),\n",
        "    layers.MaxPooling2D((2, 2)),\n",
        "    layers.Conv2D(64, (3, 3), activation='relu'),\n",
        "    layers.MaxPooling2D((2, 2)),\n",
        "    layers.Conv2D(64, (3, 3), activation='relu'),\n",
        "    layers.Flatten(),\n",
        "    layers.Dense(64, activation='relu'),\n",
        "    layers.Dense(1, activation='sigmoid')  # Binary classification\n",
        "])\n"
      ],
      "metadata": {
        "id": "knhETZhe43xs"
      },
      "execution_count": null,
      "outputs": []
    },
    {
      "cell_type": "markdown",
      "source": [
        "## Compiling the Model"
      ],
      "metadata": {
        "id": "DLXOhfiFLT4z"
      }
    },
    {
      "cell_type": "code",
      "source": [
        "model.compile(optimizer='adam',\n",
        "              loss='binary_crossentropy',  # Suitable for binary classification\n",
        "              metrics=['accuracy'])\n"
      ],
      "metadata": {
        "id": "Jwyk-voQ4_d4"
      },
      "execution_count": null,
      "outputs": []
    },
    {
      "cell_type": "markdown",
      "source": [
        "## Training the Model"
      ],
      "metadata": {
        "id": "wrBSpJwTLYHq"
      }
    },
    {
      "cell_type": "code",
      "source": [
        "history = model.fit(x_train, y_train_binary, epochs=10,\n",
        "                    validation_data=(x_val, y_val_binary))\n"
      ],
      "metadata": {
        "colab": {
          "base_uri": "https://localhost:8080/"
        },
        "id": "AI7kHJY-5EeH",
        "outputId": "1ec8ccf5-5ebb-43b5-80f1-f1e49a126670"
      },
      "execution_count": null,
      "outputs": [
        {
          "output_type": "stream",
          "name": "stdout",
          "text": [
            "Epoch 1/10\n",
            "1250/1250 [==============================] - 63s 49ms/step - loss: 0.4294 - accuracy: 0.8197 - val_loss: 0.3618 - val_accuracy: 0.8481\n",
            "Epoch 2/10\n",
            "1250/1250 [==============================] - 55s 44ms/step - loss: 0.3502 - accuracy: 0.8559 - val_loss: 0.3082 - val_accuracy: 0.8762\n",
            "Epoch 3/10\n",
            "1250/1250 [==============================] - 57s 46ms/step - loss: 0.3168 - accuracy: 0.8697 - val_loss: 0.3044 - val_accuracy: 0.8799\n",
            "Epoch 4/10\n",
            "1250/1250 [==============================] - 57s 46ms/step - loss: 0.2932 - accuracy: 0.8820 - val_loss: 0.2940 - val_accuracy: 0.8809\n",
            "Epoch 5/10\n",
            "1250/1250 [==============================] - 56s 44ms/step - loss: 0.2732 - accuracy: 0.8902 - val_loss: 0.2709 - val_accuracy: 0.8933\n",
            "Epoch 6/10\n",
            "1250/1250 [==============================] - 58s 46ms/step - loss: 0.2555 - accuracy: 0.8974 - val_loss: 0.2779 - val_accuracy: 0.8917\n",
            "Epoch 7/10\n",
            "1250/1250 [==============================] - 56s 45ms/step - loss: 0.2349 - accuracy: 0.9056 - val_loss: 0.3027 - val_accuracy: 0.8849\n",
            "Epoch 8/10\n",
            "1250/1250 [==============================] - 57s 46ms/step - loss: 0.2204 - accuracy: 0.9111 - val_loss: 0.2775 - val_accuracy: 0.8941\n",
            "Epoch 9/10\n",
            "1250/1250 [==============================] - 57s 46ms/step - loss: 0.2017 - accuracy: 0.9200 - val_loss: 0.2994 - val_accuracy: 0.8809\n",
            "Epoch 10/10\n",
            "1250/1250 [==============================] - 57s 46ms/step - loss: 0.1832 - accuracy: 0.9274 - val_loss: 0.2948 - val_accuracy: 0.8924\n"
          ]
        }
      ]
    },
    {
      "cell_type": "markdown",
      "source": [
        "## Evaluating the Model"
      ],
      "metadata": {
        "id": "vI8UKw9lLbeK"
      }
    },
    {
      "cell_type": "code",
      "source": [
        "# Evaluate the model on the test set\n",
        "test_loss, test_acc = model.evaluate(x_test, y_test_binary, verbose=2)\n",
        "print('\\nTest accuracy:', test_acc)\n",
        "\n",
        "# Predictions\n",
        "y_pred_binary = (model.predict(x_test) > 0.5).astype(\"int32\")\n",
        "\n",
        "# Calculate metrics\n",
        "precision = precision_score(y_test_binary, y_pred_binary)\n",
        "recall = recall_score(y_test_binary, y_pred_binary)\n",
        "f1 = f1_score(y_test_binary, y_pred_binary)\n",
        "accuracy = accuracy_score(y_test_binary, y_pred_binary)\n",
        "print(f\"Precision: {precision}\")\n",
        "print(f\"Recall: {recall}\")\n",
        "print(f\"F1 Score: {f1}\")\n",
        "print(f\"Accuracy: {accuracy}\")\n",
        "\n",
        "# Confusion matrix\n",
        "conf_matrix = confusion_matrix(y_test_binary, y_pred_binary)\n",
        "sns.heatmap(conf_matrix, annot=True, fmt='d', cmap='Blues')\n",
        "plt.xlabel('Predicted')\n",
        "plt.ylabel('Actual')\n",
        "plt.show()\n"
      ],
      "metadata": {
        "colab": {
          "base_uri": "https://localhost:8080/",
          "height": 592
        },
        "id": "D4xX93eC78hX",
        "outputId": "219caf47-8371-45df-dc01-d499b82a8b47"
      },
      "execution_count": null,
      "outputs": [
        {
          "output_type": "stream",
          "name": "stdout",
          "text": [
            "313/313 - 7s - loss: 0.3146 - accuracy: 0.8857 - 7s/epoch - 22ms/step\n",
            "\n",
            "Test accuracy: 0.885699987411499\n",
            "313/313 [==============================] - 10s 31ms/step\n",
            "Precision: 0.75551580202743\n",
            "Recall: 0.6335\n",
            "F1 Score: 0.6891487625781888\n",
            "Accuracy: 0.8857\n"
          ]
        },
        {
          "output_type": "display_data",
          "data": {
            "text/plain": [
              "<Figure size 640x480 with 2 Axes>"
            ],
            "image/png": "[encoded data removed]"
          },
          "metadata": {}
        }
      ]
    }
  ]
}